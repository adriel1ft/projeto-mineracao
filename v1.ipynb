{
 "cells": [
  {
   "cell_type": "markdown",
   "metadata": {},
   "source": [
    "# Aplicando conceitos do artigo  do *Rizzi*\n",
    "\n"
   ]
  },
  {
   "cell_type": "markdown",
   "metadata": {},
   "source": [
    " Alunos: Adriel Ferreira Trajano e Kamily Assis"
   ]
  },
  {
   "cell_type": "markdown",
   "metadata": {},
   "source": [
    "\n",
    "## Bibliotecas"
   ]
  },
  {
   "cell_type": "code",
   "execution_count": 12,
   "metadata": {},
   "outputs": [],
   "source": [
    "import os\n",
    "from pydantic import BaseModel\n",
    "from pydantic.fields import Field\n",
    "from openai import OpenAI\n",
    "from dotenv import load_dotenv\n",
    "import prompts\n",
    "import context_prompts\n",
    "import re\n",
    "import yaml"
   ]
  },
  {
   "cell_type": "markdown",
   "metadata": {},
   "source": [
    "## Variáveis de Ambiente "
   ]
  },
  {
   "cell_type": "code",
   "execution_count": 13,
   "metadata": {},
   "outputs": [],
   "source": [
    "load_dotenv()\n",
    "OPENAI_API_KEY = os.getenv('OPENAI_API_KEY')\n",
    "client = OpenAI(api_key = OPENAI_API_KEY)"
   ]
  },
  {
   "cell_type": "markdown",
   "metadata": {},
   "source": [
    "## Chamada de API da OpenAI"
   ]
  },
  {
   "cell_type": "code",
   "execution_count": 4,
   "metadata": {},
   "outputs": [],
   "source": [
    "def answer(msg):\n",
    "    response = client.chat.completions.create(\n",
    "        model=\"gpt-4o-mini\",\n",
    "        temperature=0,\n",
    "        messages=[\n",
    "            {\n",
    "                \"role\": \"system\",\n",
    "                \"content\": \"You are a data warehouse designer. I’m the end-user.\"\n",
    "            },\n",
    "            {\n",
    "                \"role\": \"user\", \n",
    "                \"content\": msg\n",
    "            }\n",
    "        ]\n",
    "    )\n",
    "    return response.choices[0].message.content"
   ]
  },
  {
   "cell_type": "code",
   "execution_count": 5,
   "metadata": {},
   "outputs": [],
   "source": [
    "def answer_RQ1(msg):\n",
    "    response = client.chat.completions.create(\n",
    "        \n",
    "        model = \"gpt-4o-mini\",\n",
    "        temperature = 0,\n",
    "        messages=[\n",
    "            {\n",
    "                \"role\": \"user\",\n",
    "                \"content\": msg\n",
    "            }\n",
    "        ]\n",
    "    )\n",
    "    return response.choices[0].message.content"
   ]
  },
  {
   "cell_type": "markdown",
   "metadata": {},
   "source": [
    "## Funções auxiliares"
   ]
  },
  {
   "cell_type": "code",
   "execution_count": 6,
   "metadata": {},
   "outputs": [],
   "source": [
    "def save_to_file(filename, content):\n",
    "    \"\"\"\n",
    "    Saves content to a file.\n",
    "    \"\"\"\n",
    "    with open(filename, 'w') as file:\n",
    "        file.write(content)"
   ]
  },
  {
   "cell_type": "code",
   "execution_count": 7,
   "metadata": {},
   "outputs": [],
   "source": [
    "filename = \"input/file.yml\"\n",
    "with open(filename, 'r') as file:\n",
    "    content = file.read()"
   ]
  },
  {
   "cell_type": "code",
   "execution_count": null,
   "metadata": {},
   "outputs": [],
   "source": [
    "def extract_yaml_content(response_text):\n",
    "    pattern = r'```yaml(.*?)```'\n",
    "    match = re.search(pattern, response_text, re.DOTALL)\n",
    "    \n",
    "    if match:\n",
    "        return match.group(1).strip()  \n",
    "    else:\n",
    "        pattern_fallback = r'```(.*?)```'\n",
    "        match_fallback = re.search(pattern_fallback, response_text, re.DOTALL)\n",
    "        return match_fallback.group(1).strip() if match_fallback else response_text"
   ]
  },
  {
   "cell_type": "markdown",
   "metadata": {},
   "source": [
    "## Automação da Metodologia"
   ]
  },
  {
   "cell_type": "code",
   "execution_count": null,
   "metadata": {},
   "outputs": [],
   "source": [
    "for q_prompt in dir(prompts):\n",
    "\n",
    "    if q_prompt.startswith(\"RQ1\"):\n",
    "        prompt_value = getattr(prompts, q_prompt)\n",
    "        answer_text = answer_RQ1(prompt_value)\n",
    "        save_to_file(f\"output/{q_prompt}.txt\", answer_text)\n",
    "\n",
    "\n",
    "    for context_prompt in dir(context_prompts):\n",
    "        \n",
    "        if context_prompt.startswith(\"__\") or q_prompt.startswith(\"__\"):  \n",
    "            continue\n",
    "\n",
    "        if context_prompt.endswith(\"q2\") and q_prompt.startswith(\"RQ2\"):\n",
    "            combined_prompt = getattr(context_prompts, context_prompt).format(\n",
    "                content=content,\n",
    "                msg=getattr(prompts, q_prompt)\n",
    "            )\n",
    "            answer_text = answer(combined_prompt)\n",
    "            answer_text = extract_yaml_content(answer_text)\n",
    "            var_name = f\"{context_prompt}_{q_prompt}\"\n",
    "            save_to_file(f\"output/{var_name}.yaml\", answer_text)\n",
    "\n",
    "            filename = f\"output/{var_name}.yaml\"\n",
    "            with open(filename, 'r') as file:\n",
    "                content = file.read()\n",
    "\n",
    "        elif context_prompt.endswith(\"q3\") and q_prompt.startswith(\"RQ3\"):\n",
    "            combined_prompt = getattr(context_prompts, context_prompt).format(\n",
    "                content=content,\n",
    "                msg=getattr(prompts, q_prompt)\n",
    "            )\n",
    "            answer_text = answer(combined_prompt)\n",
    "            answer_text = extract_yaml_content(answer_text)\n",
    "            var_name = f\"{context_prompt}_{q_prompt}\"\n",
    "            save_to_file(f\"output/{var_name}.yaml\", answer_text)\n",
    "\n",
    "            filename = f\"output/{var_name}.yaml\"\n",
    "            with open(filename, 'r') as file:\n",
    "                content = file.read()\n",
    "    \n",
    "    "
   ]
  }
 ],
 "metadata": {
  "kernelspec": {
   "display_name": "base",
   "language": "python",
   "name": "python3"
  },
  "language_info": {
   "codemirror_mode": {
    "name": "ipython",
    "version": 3
   },
   "file_extension": ".py",
   "mimetype": "text/x-python",
   "name": "python",
   "nbconvert_exporter": "python",
   "pygments_lexer": "ipython3",
   "version": "3.11.5"
  }
 },
 "nbformat": 4,
 "nbformat_minor": 2
}
